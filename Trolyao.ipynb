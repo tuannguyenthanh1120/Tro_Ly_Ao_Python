{
 "cells": [
  {
   "cell_type": "code",
   "execution_count": 1,
   "metadata": {},
   "outputs": [],
   "source": [
    "import os\n",
    "import playsound\n",
    "import speech_recognition as sr\n",
    "import time\n",
    "import sys\n",
    "import ctypes\n",
    "import wikipedia\n",
    "import datetime\n",
    "import json\n",
    "import re\n",
    "import webbrowser\n",
    "import smtplib\n",
    "import requests\n",
    "import urllib\n",
    "import urllib.request as urllib2\n",
    "from selenium import webdriver\n",
    "from selenium.webdriver.common.keys import Keys\n",
    "from webdriver_manager.chrome import ChromeDriverManager\n",
    "from time import strftime\n",
    "from gtts import gTTS\n",
    "from youtube_search import YoutubeSearch"
   ]
  },
  {
   "cell_type": "code",
   "execution_count": 2,
   "metadata": {},
   "outputs": [],
   "source": [
    "language = 'vi'\n",
    "path = ChromeDriverManager().install()\n",
    "wikipedia.set_lang('vi')"
   ]
  },
  {
   "cell_type": "code",
   "execution_count": 5,
   "metadata": {},
   "outputs": [],
   "source": [
    "def speak(text):\n",
    "    print(\"Bot: {}\".format(text))\n",
    "    #truyen vao text de doc len\n",
    "    tts = gTTS(text=text, lang=language, slow = False)\n",
    "    tts.save(\"C:/Users/MY PC/Downloads/Viz_Assis_Original/sound.mp3\")\n",
    "    playsound.playsound(\"C:/Users/MY PC/Downloads/Viz_Assis_Original/sound.mp3\")\n",
    "    os.remove(\"C:/Users/MY PC/Downloads/Viz_Assis_Original/sound.mp3\")\n"
   ]
  },
  {
   "cell_type": "code",
   "execution_count": 7,
   "metadata": {},
   "outputs": [],
   "source": [
    "def get_voice():\n",
    "     r = sr.Recognizer()\n",
    "     with sr.Microphone() as source:\n",
    "        print(\"Me: \", end = '')\n",
    "        audio = r.listen(source, phrase_time_limit=5)\n",
    "        try:\n",
    "            text = r.recognize_google(audio, language=\"vi-VN\")\n",
    "            print(text)\n",
    "            return text\n",
    "        except:\n",
    "            print(\"...\")\n",
    "            return 0\n",
    "    "
   ]
  },
  {
   "cell_type": "code",
   "execution_count": 9,
   "metadata": {},
   "outputs": [],
   "source": [
    "def stop():\n",
    "    speak(\"Hẹn gặp lại bạn nhé!\")"
   ]
  },
  {
   "cell_type": "code",
   "execution_count": 11,
   "metadata": {},
   "outputs": [],
   "source": [
    "def get_text():\n",
    "    for i in range(3):\n",
    "        text = get_voice()\n",
    "        if text:\n",
    "            return text.lower()\n",
    "        elif i < 2:\n",
    "            speak(\"Bot không nghe rõ, bạn có thể nói lại không ?\")\n",
    "    time.sleep(10)\n",
    "    stop()\n",
    "    return 0"
   ]
  },
  {
   "cell_type": "code",
   "execution_count": 13,
   "metadata": {},
   "outputs": [],
   "source": [
    "def talk(name):\n",
    "    day_time = int(strftime('%H'))\n",
    "    if day_time < 12:\n",
    "        speak(\"Chào buổi sáng {}. Chúc bạn ngày mới tốt lành!\".format(name))\n",
    "    elif day_time < 18:\n",
    "        speak(\"Chào buổi chiều {}!\".format(name))\n",
    "    else:\n",
    "        speak(\"Chào buổi tối {}!\".format(name))\n",
    "    time.sleep(5)\n",
    "    speak(\"Bạn có khỏe không ?\")\n",
    "    time.sleep(3)\n",
    "    ans = get_voice()\n",
    "    if ans:\n",
    "        if \"có\" in ans:\n",
    "            speak(\"Thật là tốt!\")\n",
    "        else:\n",
    "            speak(\"Vậy à, bạn nên nghỉ ngơi đi!\")"
   ]
  },
  {
   "cell_type": "code",
   "execution_count": 15,
   "metadata": {},
   "outputs": [],
   "source": [
    "def open_website(text):\n",
    "    regex = re.search ('mở (.+)', text)\n",
    "    if regex:\n",
    "        domain = regex.group(1)\n",
    "        url = 'https://www.' + domain\n",
    "        webbrowser.open(url)\n",
    "        speak(\"Trang web của bạn đã được mở lên!\")\n",
    "        return True\n",
    "    else:\n",
    "        return False\n",
    "    "
   ]
  },
  {
   "cell_type": "code",
   "execution_count": 17,
   "metadata": {},
   "outputs": [],
   "source": [
    "def google_search(text):\n",
    "    search_for = text.split(\"kiếm\", 1)[1]\n",
    "    speak(\"Oke la\")\n",
    "    driver = webdriver.Chrome(path)\n",
    "    driver.get(\"http://www.google.com\")\n",
    "    query = driver.find_element_by_xpath(\"//input[@name='q']\")\n",
    "    query.send_keys(str(search_for))\n",
    "    query.send_keys(Keys.RETURN)"
   ]
  },
  {
   "cell_type": "code",
   "execution_count": 19,
   "metadata": {},
   "outputs": [],
   "source": [
    "def get_time(text):\n",
    "    now = datetime.datetime.now()\n",
    "    if \"giờ\" in text:\n",
    "        speak(\"Bây giờ là %d giờ %d phút\" % (now.hour, now.minute))\n",
    "    elif \"ngày\" in text:\n",
    "        speak(\"Hôm nay là ngày %d tháng %d năm %d \" % (now.day, now.month, now.year))\n",
    "    else:\n",
    "        speak(\"Bot không hiểu\")"
   ]
  },
  {
   "cell_type": "code",
   "execution_count": 21,
   "metadata": {},
   "outputs": [],
   "source": [
    "def play_youtube():\n",
    "    speak(\"Xin mời bạn chọn bài hát\")\n",
    "    time.sleep(3)\n",
    "    my_song = get_text()\n",
    "    while True:\n",
    "        result = YoutubeSearch(my_song, max_results = 10).to_dict()\n",
    "        if result:\n",
    "            break;\n",
    "    url = 'https://www.youtube.com' + result[0]['url_suffix']\n",
    "    webbrowser.open(url)\n",
    "    speak(\"Bài hát của bạn đã được mở, hãy thưởng thức nó!\")"
   ]
  },
  {
   "cell_type": "code",
   "execution_count": 23,
   "metadata": {},
   "outputs": [],
   "source": [
    "def weather():\n",
    "    speak(\"Bạn muốn xem thời tiết ở đâu ạ!\")\n",
    "    time.sleep(3)\n",
    "    url = \"http://api.openweathermap.org/data/2.5/weather?\"\n",
    "    city = get_text()\n",
    "    if not city:\n",
    "        pass\n",
    "    api_key = \"fe8d8c65cf345889139d8e545f57819a\"\n",
    "    call_url = url + \"appid=\" + api_key + \"&q=\" + city + \"&units=metric\"\n",
    "    response = requests.get(call_url)\n",
    "    data = response.json()\n",
    "    if data[\"cod\"] != \"404\":\n",
    "        city_res = data[\"main\"]\n",
    "        current_temp = city_res[\"temp\"]\n",
    "        current_pressure = city_res[\"pressure\"]\n",
    "        current_humidity = city_res[\"humidity\"]\n",
    "        sun_time  = data[\"sys\"]\n",
    "        sun_rise = datetime.datetime.fromtimestamp(sun_time[\"sunrise\"])\n",
    "        sun_set = datetime.datetime.fromtimestamp(sun_time[\"sunset\"])\n",
    "        wther = data[\"weather\"]\n",
    "        weather_des = wther[0][\"description\"]\n",
    "        now = datetime.datetime.now()\n",
    "        content = \"\"\"\n",
    "        Hôm nay là ngày {day} tháng {month} năm {year}\n",
    "        Mặt trời mọc vào {hourrise} giờ {minrise} phút\n",
    "        Mặt trời lặn vào {hourset} giờ {minset} phút\n",
    "        Nhiệt độ trung bình là {temp} độ C\n",
    "        Áp suất không khí là {pressure} héc tơ Pascal\n",
    "        Độ ẩm là {humidity}%\n",
    "        Trời hôm nay quang mây. Dự báo mưa rải rác ở một số nơi.\"\"\".format(day = now.day, month = now.month, year= now.year, hourrise = sun_rise.hour, minrise = sun_rise.minute,\n",
    "                                                                           hourset = sun_set.hour, minset = sun_set.minute, \n",
    "                                                                           temp = current_temp, pressure = current_pressure, humidity = current_humidity)\n",
    "        speak(content)\n",
    "        time.sleep(25)\n",
    "    else:\n",
    "        speak(\"Không tìm thấy thành phố!\")\n",
    "        "
   ]
  },
  {
   "cell_type": "code",
   "execution_count": 25,
   "metadata": {},
   "outputs": [],
   "source": [
    "def open_application(text):\n",
    "    if \"google\" in text:\n",
    "        speak(\"Mở google chrome\")\n",
    "        os.startfile('C:\\\\Program Files (x86)\\\\Google\\\\Chrome\\\\Application\\\\chrome.exe')\n",
    "    elif \"word\" in text:\n",
    "        speak(\"Mở Microsoft Word\")\n",
    "        os.startfile(\"C:\\\\Program Files\\\\Microsoft Office\\\\Office16\\\\WINWORD.EXE\")\n",
    "    elif \"excel\" in text:\n",
    "        speak(\"Mở Microsoft PowerPoint\")\n",
    "        os.startfile(\"C:\\\\Program Files\\\\Microsoft Office\\\\Office16\\\\POWERPNT.EXE\")\n",
    "    elif \"powerpoint\" in text:\n",
    "        speak(\"Mở Microsoft Excel\")\n",
    "        os.startfile(\"C:\\\\Program Files\\\\Microsoft Office\\\\Office16\\\\EXCEL.EXE\")\n",
    "    else:\n",
    "        speak(\"Phần mềm của bạn chưa được cài đặt!\")"
   ]
  },
  {
   "cell_type": "code",
   "execution_count": 27,
   "metadata": {},
   "outputs": [],
   "source": [
    "def chang_wallpaper():\n",
    "    api_key = 'RF3LyUUIyogjCpQwlf-zjzCf1JdvRwb--SLV6iCzOxw'\n",
    "    url = 'https://api.unsplash.com/photos/random?client_id=' + api_key  # pic from unspalsh.com\n",
    "    f = urllib2.urlopen(url)\n",
    "    json_string = f.read()\n",
    "    f.close()\n",
    "    parsed_json = json.loads(json_string)\n",
    "    photo = parsed_json['urls']['full']\n",
    "    \n",
    "    urllib2.urlretrieve(photo, r\"C:\\Users\\MY PC\\Downloads\\image.png\")\n",
    "    image = os.path.join(r\"C:\\Users\\MY PC\\Downloads\\image.png\")\n",
    "    ctypes.windll.user32.SystemParametersInfoW(20,0,image,3)\n",
    "    speak(\"Hình nền máy tính vừa được thay đổi\")\n",
    "    time.sleep(2)"
   ]
  },
  {
   "cell_type": "code",
   "execution_count": 29,
   "metadata": {},
   "outputs": [],
   "source": [
    "def tell_me():\n",
    "    try:\n",
    "        speak(\"Bạn muốn nghe về gì ạ!\")\n",
    "        text = get_text()\n",
    "        contents = wikipedia.summary(text).split('\\n')\n",
    "        speak(contents[0])\n",
    "        time.sleep(20)\n",
    "        for conten in contents[1:]:\n",
    "            speak(\"Bạn muốn nghe tiếp hay không ?\")\n",
    "            ans = get_text()\n",
    "            if \"không\" in ans:\n",
    "                break\n",
    "            speak(content)\n",
    "            time.sleep(20)\n",
    "            \n",
    "        speak(\"Cảm ơn bạn đã lắng nghe!\")\n",
    "    except:\n",
    "        speak(\"Sen không định nghĩa được ngôn ngữ của bạn!\")"
   ]
  },
  {
   "cell_type": "code",
   "execution_count": 31,
   "metadata": {},
   "outputs": [],
   "source": [
    "def help():\n",
    "    speak(\"\"\"Tôi có thể làm những việc sau:\n",
    "    1. Chào hỏi\n",
    "    2. Hiển thị giờ\n",
    "    3. Mở website, application\n",
    "    4. Tìm kiếm trên Google\n",
    "    5. Gửi email\n",
    "    6. Dự báo thời tiết\n",
    "    7. Mở video nhạc\n",
    "    8. Thay đổi hình nền máy tính\n",
    "    9. Đọc báo hôm nay\n",
    "    10. Kể bạn biết về thế giới \"\"\")\n",
    "    time.sleep(20)\n",
    "    "
   ]
  },
  {
   "cell_type": "code",
   "execution_count": 33,
   "metadata": {},
   "outputs": [],
   "source": [
    "def call_sen():\n",
    "    speak(\"Xin chào, bạn tên là gì nhỉ?\")\n",
    "    time.sleep(2)\n",
    "    name = get_text()\n",
    "    if name:\n",
    "        speak(\"Chào bạn {}\".format(name))\n",
    "        time.sleep(1)\n",
    "        speak(\"Bạn cần Sen giúp gì ạ!\")\n",
    "        time.sleep(2)\n",
    "        while True:\n",
    "            text = get_text()\n",
    "            if not text:\n",
    "                break\n",
    "            elif \"trò chuyện\" in text or \"nói chuyện\" in text:\n",
    "                talk(name)\n",
    "            elif \"dừng\" in text or \"thôi\" in text:\n",
    "                stop()\n",
    "                break\n",
    "            elif \"mở\" in text:\n",
    "                if \"mở google và tìm kiếm\" in text:\n",
    "                    google_search(text)\n",
    "                elif \".\" in text:\n",
    "                    open_website(text)\n",
    "                else:\n",
    "                    open_application(text)       \n",
    "            elif \"ngày\" in text  or \"giờ\" in text:\n",
    "                get_time(text)\n",
    "            elif \"chơi nhạc\" in text:\n",
    "                play_youtube()\n",
    "            elif \"thời tiết\" in text:\n",
    "                weather()\n",
    "            elif \"hình nền\" in text:\n",
    "                change_wallpaper()\n",
    "            elif \"định nghĩa\" in text:\n",
    "                tell_me()\n",
    "            elif \"có thể làm gì\" in text:\n",
    "                help()\n",
    "                \n",
    "                    \n"
   ]
  },
  {
   "cell_type": "code",
   "execution_count": 37,
   "metadata": {},
   "outputs": [
    {
     "name": "stdout",
     "output_type": "stream",
     "text": [
      "Bot: Xin chào, bạn tên là gì nhỉ?\n",
      "Me: Kon Tum\n",
      "Bot: Chào bạn kon tum\n",
      "Bot: Bạn cần Sen giúp gì ạ!\n",
      "Me: chơi nhạc\n",
      "Bot: Xin mời bạn chọn bài hát\n",
      "Me: Lối Nhỏ\n",
      "Bot: Bài hát của bạn đã được mở, hãy thưởng thức nó!\n",
      "Me: định nghĩa\n",
      "Bot: Bạn muốn nghe về gì ạ!\n",
      "Me: hệ thống thông tin quản lý\n",
      "Bot: Hệ thống thông tin quản lý là hệ thống cung cấp thông tin cho công tác quản lý của tổ chức. Hệ thống bao gồm con người, thiết bị và quy trình thu thập, phân tích, đánh giá và phân phối những thông tin cần thiết, kịp thời, chính xác cho những người soạn thảo các quyết định trong tổ chức.\n",
      "Bot: Bạn muốn nghe tiếp hay không ?\n",
      "Me: không không\n",
      "Bot: Cảm ơn bạn đã lắng nghe!\n",
      "Me: giật giật\n",
      "thôi thôi thôi thôi\n",
      "Bot: Hẹn gặp lại bạn nhé!\n"
     ]
    }
   ],
   "source": [
    "call_sen()"
   ]
  },
  {
   "cell_type": "code",
   "execution_count": null,
   "metadata": {},
   "outputs": [],
   "source": []
  }
 ],
 "metadata": {
  "kernelspec": {
   "display_name": "Python 3 (ipykernel)",
   "language": "python",
   "name": "python3"
  },
  "language_info": {
   "codemirror_mode": {
    "name": "ipython",
    "version": 3
   },
   "file_extension": ".py",
   "mimetype": "text/x-python",
   "name": "python",
   "nbconvert_exporter": "python",
   "pygments_lexer": "ipython3",
   "version": "3.12.4"
  }
 },
 "nbformat": 4,
 "nbformat_minor": 4
}
